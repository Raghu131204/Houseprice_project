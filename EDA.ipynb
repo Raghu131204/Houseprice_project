{
 "cells": [
  {
   "cell_type": "markdown",
   "id": "a37b3419-bdcf-4e58-8ba7-767335fe8a1d",
   "metadata": {},
   "source": [
    "<h3>Importing the Libraries</h3>"
   ]
  },
  {
   "cell_type": "code",
   "execution_count": 1,
   "id": "0d2bdbd5-d0b4-410a-9ba4-93491f923efc",
   "metadata": {},
   "outputs": [],
   "source": [
    "import numpy as np\n",
    "import pandas as pd \n",
    "import matplotlib.pyplot as plt\n",
    "import seaborn as sns\n",
    "pd.pandas.set_option('display.max_columns',None)\n",
    "import warnings\n",
    "# Suppress all warnings\n",
    "warnings.filterwarnings(\"ignore\")\n",
    "from sklearn.model_selection import train_test_split"
   ]
  },
  {
   "cell_type": "code",
   "execution_count": 2,
   "id": "1c9cfd11-22a0-453b-8f4c-377e2efdb670",
   "metadata": {},
   "outputs": [
    {
     "data": {
      "text/html": [
       "<div>\n",
       "<style scoped>\n",
       "    .dataframe tbody tr th:only-of-type {\n",
       "        vertical-align: middle;\n",
       "    }\n",
       "\n",
       "    .dataframe tbody tr th {\n",
       "        vertical-align: top;\n",
       "    }\n",
       "\n",
       "    .dataframe thead th {\n",
       "        text-align: right;\n",
       "    }\n",
       "</style>\n",
       "<table border=\"1\" class=\"dataframe\">\n",
       "  <thead>\n",
       "    <tr style=\"text-align: right;\">\n",
       "      <th></th>\n",
       "      <th>area_type</th>\n",
       "      <th>availability</th>\n",
       "      <th>location</th>\n",
       "      <th>size</th>\n",
       "      <th>society</th>\n",
       "      <th>total_sqft</th>\n",
       "      <th>bath</th>\n",
       "      <th>balcony</th>\n",
       "      <th>price</th>\n",
       "    </tr>\n",
       "  </thead>\n",
       "  <tbody>\n",
       "    <tr>\n",
       "      <th>4506</th>\n",
       "      <td>Super built-up  Area</td>\n",
       "      <td>Ready To Move</td>\n",
       "      <td>Banashankari Stage III</td>\n",
       "      <td>3 BHK</td>\n",
       "      <td>Pridsi</td>\n",
       "      <td>1305</td>\n",
       "      <td>2.0</td>\n",
       "      <td>1.0</td>\n",
       "      <td>60.00</td>\n",
       "    </tr>\n",
       "    <tr>\n",
       "      <th>1620</th>\n",
       "      <td>Plot  Area</td>\n",
       "      <td>18-May</td>\n",
       "      <td>Marsur</td>\n",
       "      <td>3 Bedroom</td>\n",
       "      <td>MGave E</td>\n",
       "      <td>1000</td>\n",
       "      <td>4.0</td>\n",
       "      <td>3.0</td>\n",
       "      <td>66.00</td>\n",
       "    </tr>\n",
       "    <tr>\n",
       "      <th>9889</th>\n",
       "      <td>Plot  Area</td>\n",
       "      <td>Ready To Move</td>\n",
       "      <td>Begur Road</td>\n",
       "      <td>5 Bedroom</td>\n",
       "      <td>NaN</td>\n",
       "      <td>1100</td>\n",
       "      <td>5.0</td>\n",
       "      <td>1.0</td>\n",
       "      <td>165.00</td>\n",
       "    </tr>\n",
       "    <tr>\n",
       "      <th>11376</th>\n",
       "      <td>Built-up  Area</td>\n",
       "      <td>18-Dec</td>\n",
       "      <td>Electronic City</td>\n",
       "      <td>2 BHK</td>\n",
       "      <td>NaN</td>\n",
       "      <td>1140</td>\n",
       "      <td>2.0</td>\n",
       "      <td>1.0</td>\n",
       "      <td>32.92</td>\n",
       "    </tr>\n",
       "    <tr>\n",
       "      <th>584</th>\n",
       "      <td>Super built-up  Area</td>\n",
       "      <td>Ready To Move</td>\n",
       "      <td>Dooravani Nagar</td>\n",
       "      <td>3 BHK</td>\n",
       "      <td>Puceswn</td>\n",
       "      <td>1578</td>\n",
       "      <td>3.0</td>\n",
       "      <td>1.0</td>\n",
       "      <td>180.00</td>\n",
       "    </tr>\n",
       "  </tbody>\n",
       "</table>\n",
       "</div>"
      ],
      "text/plain": [
       "                  area_type   availability                location       size  \\\n",
       "4506   Super built-up  Area  Ready To Move  Banashankari Stage III      3 BHK   \n",
       "1620             Plot  Area         18-May                  Marsur  3 Bedroom   \n",
       "9889             Plot  Area  Ready To Move              Begur Road  5 Bedroom   \n",
       "11376        Built-up  Area         18-Dec         Electronic City      2 BHK   \n",
       "584    Super built-up  Area  Ready To Move         Dooravani Nagar      3 BHK   \n",
       "\n",
       "       society total_sqft  bath  balcony   price  \n",
       "4506   Pridsi        1305   2.0      1.0   60.00  \n",
       "1620   MGave E       1000   4.0      3.0   66.00  \n",
       "9889       NaN       1100   5.0      1.0  165.00  \n",
       "11376      NaN       1140   2.0      1.0   32.92  \n",
       "584    Puceswn       1578   3.0      1.0  180.00  "
      ]
     },
     "execution_count": 2,
     "metadata": {},
     "output_type": "execute_result"
    }
   ],
   "source": [
    "#Reading the data set\n",
    "data=pd.read_csv('Dataset/Bengaluru_House.csv')\n",
    "data.sample(5)"
   ]
  },
  {
   "cell_type": "code",
   "execution_count": 3,
   "id": "5edf14f2-ba64-4d25-9006-a48602392f18",
   "metadata": {},
   "outputs": [
    {
     "data": {
      "text/plain": [
       "area_type        object\n",
       "availability     object\n",
       "location         object\n",
       "size             object\n",
       "society          object\n",
       "total_sqft       object\n",
       "bath            float64\n",
       "balcony         float64\n",
       "price           float64\n",
       "dtype: object"
      ]
     },
     "execution_count": 3,
     "metadata": {},
     "output_type": "execute_result"
    }
   ],
   "source": [
    "#Checking the data types of each columns\n",
    "data.dtypes"
   ]
  },
  {
   "cell_type": "code",
   "execution_count": 4,
   "id": "bfdf06d7-5e7b-4d21-a6a7-44a2c541e129",
   "metadata": {},
   "outputs": [
    {
     "name": "stdout",
     "output_type": "stream",
     "text": [
      "<class 'pandas.core.frame.DataFrame'>\n",
      "RangeIndex: 13320 entries, 0 to 13319\n",
      "Data columns (total 9 columns):\n",
      " #   Column        Non-Null Count  Dtype  \n",
      "---  ------        --------------  -----  \n",
      " 0   area_type     13320 non-null  object \n",
      " 1   availability  13320 non-null  object \n",
      " 2   location      13319 non-null  object \n",
      " 3   size          13304 non-null  object \n",
      " 4   society       7818 non-null   object \n",
      " 5   total_sqft    13320 non-null  object \n",
      " 6   bath          13247 non-null  float64\n",
      " 7   balcony       12711 non-null  float64\n",
      " 8   price         13320 non-null  float64\n",
      "dtypes: float64(3), object(6)\n",
      "memory usage: 936.7+ KB\n"
     ]
    }
   ],
   "source": [
    "data.info()"
   ]
  },
  {
   "cell_type": "code",
   "execution_count": 5,
   "id": "d0bff763-430a-4097-9b80-466108339a29",
   "metadata": {},
   "outputs": [
    {
     "data": {
      "text/plain": [
       "6201"
      ]
     },
     "execution_count": 5,
     "metadata": {},
     "output_type": "execute_result"
    }
   ],
   "source": [
    "#checking the null values in the data set\n",
    "data.isnull().sum().sum()"
   ]
  },
  {
   "cell_type": "code",
   "execution_count": 6,
   "id": "bd5c9afd-5d40-43e9-ab9b-323f99e44f7a",
   "metadata": {},
   "outputs": [
    {
     "data": {
      "text/plain": [
       "area_type          0\n",
       "availability       0\n",
       "location           1\n",
       "size              16\n",
       "society         5502\n",
       "total_sqft         0\n",
       "bath              73\n",
       "balcony          609\n",
       "price              0\n",
       "dtype: int64"
      ]
     },
     "execution_count": 6,
     "metadata": {},
     "output_type": "execute_result"
    }
   ],
   "source": [
    "#null values in each column\n",
    "data.isnull().sum()"
   ]
  },
  {
   "cell_type": "code",
   "execution_count": 7,
   "id": "dbcdfb87-ce40-43e7-b5b8-9af0b6bb227c",
   "metadata": {},
   "outputs": [],
   "source": [
    "#droping the row that has a null value \n",
    "data.dropna(subset=['location'],inplace=True)"
   ]
  },
  {
   "cell_type": "code",
   "execution_count": 8,
   "id": "e7979c36-31a0-4fbe-a02f-9bea23406426",
   "metadata": {},
   "outputs": [
    {
     "data": {
      "text/plain": [
       "529"
      ]
     },
     "execution_count": 8,
     "metadata": {},
     "output_type": "execute_result"
    }
   ],
   "source": [
    "data.duplicated().sum()"
   ]
  },
  {
   "cell_type": "markdown",
   "id": "35e4c8d1-5bce-445d-a4cc-1e8c3052bf48",
   "metadata": {},
   "source": [
    "<h4>Size</h4>"
   ]
  },
  {
   "cell_type": "code",
   "execution_count": 9,
   "id": "0622eeed-38b5-4a71-ad1f-1b995684582b",
   "metadata": {},
   "outputs": [],
   "source": [
    "##preprocessing column size \n",
    "data['BHK']=data['size'].str.extract('(\\d+)')"
   ]
  },
  {
   "cell_type": "code",
   "execution_count": 10,
   "id": "13144c7b-5120-4888-aa6e-b2c10403dcba",
   "metadata": {},
   "outputs": [],
   "source": [
    "data['BHK']=pd.to_numeric(data['BHK'],errors='coerce')"
   ]
  },
  {
   "cell_type": "code",
   "execution_count": 11,
   "id": "7b67d64f-1502-4a49-8ee8-3721de28785c",
   "metadata": {},
   "outputs": [
    {
     "data": {
      "text/plain": [
       "16"
      ]
     },
     "execution_count": 11,
     "metadata": {},
     "output_type": "execute_result"
    }
   ],
   "source": [
    "#checkimg the null values in the column BHK\n",
    "data['BHK'].isnull().sum().sum()"
   ]
  },
  {
   "cell_type": "code",
   "execution_count": 12,
   "id": "b0d8f56b-e7dc-4579-a1a7-441c0436da36",
   "metadata": {},
   "outputs": [],
   "source": [
    "data['BHK'].fillna(data['BHK'].median(),inplace=True) #filling the missing values with median value"
   ]
  },
  {
   "cell_type": "markdown",
   "id": "f0c88b4d-c6d1-4030-a498-84947d448632",
   "metadata": {},
   "source": [
    "<h4>balcony</h4>"
   ]
  },
  {
   "cell_type": "code",
   "execution_count": 13,
   "id": "2fedaf03-a732-4889-9469-935f0d1c005a",
   "metadata": {},
   "outputs": [
    {
     "data": {
      "text/plain": [
       "609"
      ]
     },
     "execution_count": 13,
     "metadata": {},
     "output_type": "execute_result"
    }
   ],
   "source": [
    "#checking the null values in column balcony\n",
    "data['balcony'].isnull().sum()"
   ]
  },
  {
   "cell_type": "markdown",
   "id": "5708eecc-6270-410e-b6e2-37607a484887",
   "metadata": {},
   "source": [
    "around 5 % of the data is missing in the column balcony"
   ]
  },
  {
   "cell_type": "code",
   "execution_count": 14,
   "id": "5afde2c2-9794-4315-9eec-8b242b5c8652",
   "metadata": {},
   "outputs": [],
   "source": [
    "data.dropna(subset=['balcony'],inplace=True)"
   ]
  },
  {
   "cell_type": "code",
   "execution_count": 15,
   "id": "757ed597-6a9b-4cb0-94e7-e878cce099b1",
   "metadata": {},
   "outputs": [
    {
     "data": {
      "text/plain": [
       "0"
      ]
     },
     "execution_count": 15,
     "metadata": {},
     "output_type": "execute_result"
    }
   ],
   "source": [
    "data['balcony'].isnull().sum()"
   ]
  },
  {
   "cell_type": "markdown",
   "id": "e700451e-243b-46d4-8dae-f61167e7b424",
   "metadata": {},
   "source": [
    "<h4>bath</h4>"
   ]
  },
  {
   "cell_type": "code",
   "execution_count": 16,
   "id": "3fad763a-7f6c-46e8-8f55-802e6cb8bd29",
   "metadata": {},
   "outputs": [
    {
     "data": {
      "text/plain": [
       "0"
      ]
     },
     "execution_count": 16,
     "metadata": {},
     "output_type": "execute_result"
    }
   ],
   "source": [
    "data['bath'].isnull().sum()"
   ]
  },
  {
   "cell_type": "markdown",
   "id": "5341e03e-c882-4b94-8ffc-b721eb738c05",
   "metadata": {},
   "source": [
    "<h4>total_sqft</h4>"
   ]
  },
  {
   "cell_type": "code",
   "execution_count": 17,
   "id": "6a338300-a2d3-4ec7-be7b-7cfa9a691d60",
   "metadata": {},
   "outputs": [],
   "source": [
    "def to_sqft(x):\n",
    "    # Handle ranges (e.g., \"4000 - 5249\")\n",
    "    if '-' in x:\n",
    "        token = x.split('-')\n",
    "        if len(token) == 2:\n",
    "            return (float(token[0].strip()) + float(token[1].strip())) / 2\n",
    "\n",
    "    # Handle Sq. Yards to Sq. Feet\n",
    "    if \"Sq. Yards\" in x:\n",
    "        return float(x.split(\"Sq. Yards\")[0].strip()) * 9\n",
    "\n",
    "    # Handle Sq. Meter to Sq. Feet\n",
    "    if \"Sq. Meter\" in x:\n",
    "        return float(x.split(\"Sq. Meter\")[0].strip()) * 10.7639\n",
    "\n",
    "    # Handle Perch to Sq. Feet\n",
    "    if \"Perch\" in x:\n",
    "        return float(x.split(\"Perch\")[0].strip()) * 272.25\n",
    "\n",
    "    # Handle Grounds to Sq. Feet\n",
    "    if \"Grounds\" in x:\n",
    "        return float(x.split(\"Grounds\")[0].strip()) * 2400\n",
    "\n",
    "    # Handle Acres to Sq. Feet\n",
    "    if \"Acres\" in x:\n",
    "        return float(x.split(\"Acres\")[0].strip()) * 43560\n",
    "\n",
    "    # Handle Cents to Sq. Feet\n",
    "    if \"Cents\" in x:\n",
    "        return float(x.split(\"Cents\")[0].strip()) * 435.6\n",
    "\n",
    "    # Handle Guntha to Sq. Feet\n",
    "    if \"Guntha\" in x:\n",
    "        return float(x.split(\"Guntha\")[0].strip()) * 1089\n",
    "\n",
    "    # Handle standalone numeric values\n",
    "    try:\n",
    "        return float(x)\n",
    "    except ValueError:\n",
    "        return None  # For invalid or unknown formats"
   ]
  },
  {
   "cell_type": "code",
   "execution_count": 18,
   "id": "cd6ed027-1748-415b-bc2f-36374e4f16d8",
   "metadata": {},
   "outputs": [],
   "source": [
    "data['total_sqft']=data['total_sqft'].apply(to_sqft)"
   ]
  },
  {
   "cell_type": "markdown",
   "id": "90043622-5a9d-4378-a18e-a5e8bc54553d",
   "metadata": {},
   "source": [
    "<h4>location</h4>"
   ]
  },
  {
   "cell_type": "code",
   "execution_count": 19,
   "id": "34d4ae78-9719-4d24-95bc-c2f4a2a071d9",
   "metadata": {},
   "outputs": [
    {
     "data": {
      "text/plain": [
       "1265"
      ]
     },
     "execution_count": 19,
     "metadata": {},
     "output_type": "execute_result"
    }
   ],
   "source": [
    "unique_loc=data['location'].unique()#checkking the unique values of colum location \n",
    "len(unique_loc)"
   ]
  },
  {
   "cell_type": "code",
   "execution_count": 20,
   "id": "bc0eccbe-8646-4ad5-b013-b8d4fdd726a9",
   "metadata": {},
   "outputs": [],
   "source": [
    "data['location']=data['location'].str.lower()#converting all the values of column location to lowercase "
   ]
  },
  {
   "cell_type": "code",
   "execution_count": 21,
   "id": "e075e14a-4be4-4079-a382-c17696792f6d",
   "metadata": {},
   "outputs": [
    {
     "data": {
      "text/html": [
       "<div>\n",
       "<style scoped>\n",
       "    .dataframe tbody tr th:only-of-type {\n",
       "        vertical-align: middle;\n",
       "    }\n",
       "\n",
       "    .dataframe tbody tr th {\n",
       "        vertical-align: top;\n",
       "    }\n",
       "\n",
       "    .dataframe thead th {\n",
       "        text-align: right;\n",
       "    }\n",
       "</style>\n",
       "<table border=\"1\" class=\"dataframe\">\n",
       "  <thead>\n",
       "    <tr style=\"text-align: right;\">\n",
       "      <th></th>\n",
       "      <th>area_type</th>\n",
       "      <th>availability</th>\n",
       "      <th>location</th>\n",
       "      <th>size</th>\n",
       "      <th>society</th>\n",
       "      <th>total_sqft</th>\n",
       "      <th>bath</th>\n",
       "      <th>balcony</th>\n",
       "      <th>price</th>\n",
       "      <th>BHK</th>\n",
       "    </tr>\n",
       "  </thead>\n",
       "  <tbody>\n",
       "    <tr>\n",
       "      <th>4219</th>\n",
       "      <td>Super built-up  Area</td>\n",
       "      <td>18-Jan</td>\n",
       "      <td>8th phase jp nagar</td>\n",
       "      <td>2 BHK</td>\n",
       "      <td>NaN</td>\n",
       "      <td>1059.0</td>\n",
       "      <td>2.0</td>\n",
       "      <td>2.0</td>\n",
       "      <td>34.5</td>\n",
       "      <td>2.0</td>\n",
       "    </tr>\n",
       "  </tbody>\n",
       "</table>\n",
       "</div>"
      ],
      "text/plain": [
       "                 area_type availability            location   size society  \\\n",
       "4219  Super built-up  Area       18-Jan  8th phase jp nagar  2 BHK     NaN   \n",
       "\n",
       "      total_sqft  bath  balcony  price  BHK  \n",
       "4219      1059.0   2.0      2.0   34.5  2.0  "
      ]
     },
     "execution_count": 21,
     "metadata": {},
     "output_type": "execute_result"
    }
   ],
   "source": [
    "data.sample()"
   ]
  },
  {
   "cell_type": "code",
   "execution_count": 22,
   "id": "c2321ad0-bc0f-4141-b7c6-451dcfa4995d",
   "metadata": {},
   "outputs": [
    {
     "data": {
      "text/plain": [
       "1256"
      ]
     },
     "execution_count": 22,
     "metadata": {},
     "output_type": "execute_result"
    }
   ],
   "source": [
    "len(data['location'].unique()) #the difference before converting to lower case and after converting 1304-1294"
   ]
  },
  {
   "cell_type": "code",
   "execution_count": 23,
   "id": "ebea03ad-a408-4898-b507-1d9436c58cc3",
   "metadata": {},
   "outputs": [],
   "source": [
    "#removing the white spaces between the words in a value\n",
    "data['location']=data['location'].apply(lambda x:x.strip())"
   ]
  },
  {
   "cell_type": "markdown",
   "id": "e3db121d-3b52-4627-b842-d2521564c794",
   "metadata": {},
   "source": [
    "<h4>new column price_per_sqft'</h4>"
   ]
  },
  {
   "cell_type": "code",
   "execution_count": 24,
   "id": "f7e6f148-1c0c-4bda-8e3a-a09c3fe3b002",
   "metadata": {},
   "outputs": [
    {
     "data": {
      "text/html": [
       "<div>\n",
       "<style scoped>\n",
       "    .dataframe tbody tr th:only-of-type {\n",
       "        vertical-align: middle;\n",
       "    }\n",
       "\n",
       "    .dataframe tbody tr th {\n",
       "        vertical-align: top;\n",
       "    }\n",
       "\n",
       "    .dataframe thead th {\n",
       "        text-align: right;\n",
       "    }\n",
       "</style>\n",
       "<table border=\"1\" class=\"dataframe\">\n",
       "  <thead>\n",
       "    <tr style=\"text-align: right;\">\n",
       "      <th></th>\n",
       "      <th>area_type</th>\n",
       "      <th>availability</th>\n",
       "      <th>location</th>\n",
       "      <th>size</th>\n",
       "      <th>society</th>\n",
       "      <th>total_sqft</th>\n",
       "      <th>bath</th>\n",
       "      <th>balcony</th>\n",
       "      <th>price</th>\n",
       "      <th>BHK</th>\n",
       "      <th>price_per_sqft</th>\n",
       "    </tr>\n",
       "  </thead>\n",
       "  <tbody>\n",
       "    <tr>\n",
       "      <th>0</th>\n",
       "      <td>Super built-up  Area</td>\n",
       "      <td>19-Dec</td>\n",
       "      <td>electronic city phase ii</td>\n",
       "      <td>2 BHK</td>\n",
       "      <td>Coomee</td>\n",
       "      <td>1056.0</td>\n",
       "      <td>2.0</td>\n",
       "      <td>1.0</td>\n",
       "      <td>39.07</td>\n",
       "      <td>2.0</td>\n",
       "      <td>3699.810606</td>\n",
       "    </tr>\n",
       "    <tr>\n",
       "      <th>1</th>\n",
       "      <td>Plot  Area</td>\n",
       "      <td>Ready To Move</td>\n",
       "      <td>chikka tirupathi</td>\n",
       "      <td>4 Bedroom</td>\n",
       "      <td>Theanmp</td>\n",
       "      <td>2600.0</td>\n",
       "      <td>5.0</td>\n",
       "      <td>3.0</td>\n",
       "      <td>120.00</td>\n",
       "      <td>4.0</td>\n",
       "      <td>4615.384615</td>\n",
       "    </tr>\n",
       "  </tbody>\n",
       "</table>\n",
       "</div>"
      ],
      "text/plain": [
       "              area_type   availability                  location       size  \\\n",
       "0  Super built-up  Area         19-Dec  electronic city phase ii      2 BHK   \n",
       "1            Plot  Area  Ready To Move          chikka tirupathi  4 Bedroom   \n",
       "\n",
       "   society  total_sqft  bath  balcony   price  BHK  price_per_sqft  \n",
       "0  Coomee       1056.0   2.0      1.0   39.07  2.0     3699.810606  \n",
       "1  Theanmp      2600.0   5.0      3.0  120.00  4.0     4615.384615  "
      ]
     },
     "execution_count": 24,
     "metadata": {},
     "output_type": "execute_result"
    }
   ],
   "source": [
    "#The price is in terms of lakhs to caluclate the amount per sqr feet \n",
    "data['price_per_sqft']=((data['price']*100000)/(data['total_sqft']))\n",
    "data['price_per_sqft']=pd.to_numeric(data['price_per_sqft'],errors='coerce')\n",
    "data.head(2)"
   ]
  },
  {
   "cell_type": "code",
   "execution_count": 25,
   "id": "405884f0-c206-42a8-b82b-2d1b95356f53",
   "metadata": {},
   "outputs": [],
   "source": [
    "#Removing outliers\n",
    "def Outlier_price(data,column):\n",
    "    sorted_data=data.sort_values(by=column)\n",
    "    Q1=sorted_data[column].quantile(0.25)\n",
    "    Q3=sorted_data[column].quantile(0.75)\n",
    "    IQR=Q3-Q1\n",
    "    lower_limit=Q1-(1.5*IQR)\n",
    "    upper_limit=Q3+(1.5*IQR)\n",
    "    data_no_out=sorted_data[(sorted_data[column]>lower_limit)&(sorted_data[column]<upper_limit)]\n",
    "    return data_no_out"
   ]
  },
  {
   "cell_type": "code",
   "execution_count": 26,
   "id": "f7735afe-6b36-4477-b3db-a64a02398681",
   "metadata": {},
   "outputs": [],
   "source": [
    "data1=Outlier_price(data,'price_per_sqft')"
   ]
  },
  {
   "cell_type": "code",
   "execution_count": 27,
   "id": "e5ce3a3d-687c-4c2c-80ac-9061666479a2",
   "metadata": {},
   "outputs": [
    {
     "data": {
      "text/plain": [
       "(11523, 11)"
      ]
     },
     "execution_count": 27,
     "metadata": {},
     "output_type": "execute_result"
    }
   ],
   "source": [
    "data1.shape"
   ]
  },
  {
   "cell_type": "markdown",
   "id": "4d4aa703-1fd1-4ce0-80fa-0aa21f1136ba",
   "metadata": {},
   "source": [
    "<h3>Before and after removing the outliers in column price_per_sqft</h3>"
   ]
  },
  {
   "cell_type": "code",
   "execution_count": 28,
   "id": "70c57b50-4e47-48a6-9272-a9fe43208f21",
   "metadata": {},
   "outputs": [
    {
     "data": {
      "image/png": "[encoded data removed]",
      "text/plain": [
       "<Figure size 1000x500 with 2 Axes>"
      ]
     },
     "metadata": {},
     "output_type": "display_data"
    }
   ],
   "source": [
    "  fig, ax = plt.subplots(1, 2, figsize=(10, 5))\n",
    "\n",
    "# Plot histogram for 'data'\n",
    "data['price_per_sqft'].plot.hist(color='r', ax=ax[0], alpha=0.5)\n",
    "data1['price_per_sqft'].plot.hist(color='g', ax=ax[1], alpha=0.5)\n",
    "\n",
    "# Setting titles and labels\n",
    "ax[0].set_title('Before handling outliers')\n",
    "ax[0].set_xlabel('price_per_sqft')\n",
    "ax[0].set_ylabel('Frequency')\n",
    "\n",
    "ax[1].set_title('After handling outliers')\n",
    "ax[1].set_xlabel('price_per_sqft')\n",
    "ax[1].set_ylabel('Frequency')\n",
    "\n",
    "plt.tight_layout()\n",
    "plt.show()"
   ]
  },
  {
   "cell_type": "code",
   "execution_count": 29,
   "id": "d71fa990-045b-4ece-9eae-284ce12ee960",
   "metadata": {},
   "outputs": [
    {
     "data": {
      "text/plain": [
       "(11523, 11)"
      ]
     },
     "execution_count": 29,
     "metadata": {},
     "output_type": "execute_result"
    }
   ],
   "source": [
    "data1.shape"
   ]
  },
  {
   "cell_type": "code",
   "execution_count": 30,
   "id": "6fa2b7d9-14f8-410c-b76c-b3d3ddf3f64f",
   "metadata": {},
   "outputs": [
    {
     "data": {
      "text/plain": [
       "<Axes: xlabel='BHK', ylabel='price'>"
      ]
     },
     "execution_count": 30,
     "metadata": {},
     "output_type": "execute_result"
    },
    {
     "data": {
      "image/png": "[encoded data removed]",
      "text/plain": [
       "<Figure size 1000x600 with 1 Axes>"
      ]
     },
     "metadata": {},
     "output_type": "display_data"
    }
   ],
   "source": [
    "fig=plt.figure(figsize=(10,6))\n",
    "sns.boxplot(x='BHK',y='price',data=data1)"
   ]
  },
  {
   "cell_type": "code",
   "execution_count": 31,
   "id": "5bd78f3b-d56c-4da7-baac-1f42dec98167",
   "metadata": {},
   "outputs": [
    {
     "data": {
      "text/plain": [
       "11519"
      ]
     },
     "execution_count": 31,
     "metadata": {},
     "output_type": "execute_result"
    }
   ],
   "source": [
    "data1=data1[data1.bath<data1.BHK+3]\n",
    "data1.shape[0]"
   ]
  },
  {
   "cell_type": "code",
   "execution_count": 32,
   "id": "618803e4-43ac-42c0-a6ef-e867720fc14b",
   "metadata": {},
   "outputs": [
    {
     "data": {
      "text/plain": [
       "area_type            0\n",
       "availability         0\n",
       "location             0\n",
       "size                 0\n",
       "society           4297\n",
       "total_sqft           0\n",
       "bath                 0\n",
       "balcony              0\n",
       "price                0\n",
       "BHK                  0\n",
       "price_per_sqft       0\n",
       "dtype: int64"
      ]
     },
     "execution_count": 32,
     "metadata": {},
     "output_type": "execute_result"
    }
   ],
   "source": [
    "data1.isnull().sum()"
   ]
  },
  {
   "cell_type": "code",
   "execution_count": 33,
   "id": "5e82f8c0-1099-44fd-b121-c02bbb4e95a7",
   "metadata": {},
   "outputs": [
    {
     "data": {
      "text/html": [
       "<div>\n",
       "<style scoped>\n",
       "    .dataframe tbody tr th:only-of-type {\n",
       "        vertical-align: middle;\n",
       "    }\n",
       "\n",
       "    .dataframe tbody tr th {\n",
       "        vertical-align: top;\n",
       "    }\n",
       "\n",
       "    .dataframe thead th {\n",
       "        text-align: right;\n",
       "    }\n",
       "</style>\n",
       "<table border=\"1\" class=\"dataframe\">\n",
       "  <thead>\n",
       "    <tr style=\"text-align: right;\">\n",
       "      <th></th>\n",
       "      <th>area_type</th>\n",
       "      <th>availability</th>\n",
       "      <th>location</th>\n",
       "      <th>size</th>\n",
       "      <th>society</th>\n",
       "      <th>total_sqft</th>\n",
       "      <th>bath</th>\n",
       "      <th>balcony</th>\n",
       "      <th>price</th>\n",
       "      <th>BHK</th>\n",
       "      <th>price_per_sqft</th>\n",
       "    </tr>\n",
       "  </thead>\n",
       "  <tbody>\n",
       "    <tr>\n",
       "      <th>8653</th>\n",
       "      <td>Plot  Area</td>\n",
       "      <td>Ready To Move</td>\n",
       "      <td>doddaballapur</td>\n",
       "      <td>2 Bedroom</td>\n",
       "      <td>NaN</td>\n",
       "      <td>640.0</td>\n",
       "      <td>1.0</td>\n",
       "      <td>0.0</td>\n",
       "      <td>10.5</td>\n",
       "      <td>2.0</td>\n",
       "      <td>1640.625000</td>\n",
       "    </tr>\n",
       "    <tr>\n",
       "      <th>11173</th>\n",
       "      <td>Super built-up  Area</td>\n",
       "      <td>Ready To Move</td>\n",
       "      <td>kadabagere</td>\n",
       "      <td>2 BHK</td>\n",
       "      <td>Jahipa</td>\n",
       "      <td>675.0</td>\n",
       "      <td>2.0</td>\n",
       "      <td>2.0</td>\n",
       "      <td>13.5</td>\n",
       "      <td>2.0</td>\n",
       "      <td>2000.000000</td>\n",
       "    </tr>\n",
       "    <tr>\n",
       "      <th>2796</th>\n",
       "      <td>Built-up  Area</td>\n",
       "      <td>Ready To Move</td>\n",
       "      <td>electronic city</td>\n",
       "      <td>3 BHK</td>\n",
       "      <td>Itelaa</td>\n",
       "      <td>880.0</td>\n",
       "      <td>2.0</td>\n",
       "      <td>1.0</td>\n",
       "      <td>18.0</td>\n",
       "      <td>3.0</td>\n",
       "      <td>2045.454545</td>\n",
       "    </tr>\n",
       "    <tr>\n",
       "      <th>7028</th>\n",
       "      <td>Super built-up  Area</td>\n",
       "      <td>Ready To Move</td>\n",
       "      <td>kadabagere</td>\n",
       "      <td>2 BHK</td>\n",
       "      <td>Jahipa</td>\n",
       "      <td>675.0</td>\n",
       "      <td>1.0</td>\n",
       "      <td>1.0</td>\n",
       "      <td>15.0</td>\n",
       "      <td>2.0</td>\n",
       "      <td>2222.222222</td>\n",
       "    </tr>\n",
       "    <tr>\n",
       "      <th>4786</th>\n",
       "      <td>Super built-up  Area</td>\n",
       "      <td>Ready To Move</td>\n",
       "      <td>electronic city</td>\n",
       "      <td>2 BHK</td>\n",
       "      <td>Itelaa</td>\n",
       "      <td>660.0</td>\n",
       "      <td>1.0</td>\n",
       "      <td>1.0</td>\n",
       "      <td>15.0</td>\n",
       "      <td>2.0</td>\n",
       "      <td>2272.727273</td>\n",
       "    </tr>\n",
       "    <tr>\n",
       "      <th>...</th>\n",
       "      <td>...</td>\n",
       "      <td>...</td>\n",
       "      <td>...</td>\n",
       "      <td>...</td>\n",
       "      <td>...</td>\n",
       "      <td>...</td>\n",
       "      <td>...</td>\n",
       "      <td>...</td>\n",
       "      <td>...</td>\n",
       "      <td>...</td>\n",
       "      <td>...</td>\n",
       "    </tr>\n",
       "    <tr>\n",
       "      <th>3342</th>\n",
       "      <td>Plot  Area</td>\n",
       "      <td>Ready To Move</td>\n",
       "      <td>bhuvaneshwari nagar</td>\n",
       "      <td>3 Bedroom</td>\n",
       "      <td>NaN</td>\n",
       "      <td>440.0</td>\n",
       "      <td>3.0</td>\n",
       "      <td>0.0</td>\n",
       "      <td>50.0</td>\n",
       "      <td>3.0</td>\n",
       "      <td>11363.636364</td>\n",
       "    </tr>\n",
       "    <tr>\n",
       "      <th>8146</th>\n",
       "      <td>Plot  Area</td>\n",
       "      <td>Ready To Move</td>\n",
       "      <td>sarjapur  road</td>\n",
       "      <td>5 Bedroom</td>\n",
       "      <td>Owlotou</td>\n",
       "      <td>1480.0</td>\n",
       "      <td>4.0</td>\n",
       "      <td>1.0</td>\n",
       "      <td>169.0</td>\n",
       "      <td>5.0</td>\n",
       "      <td>11418.918919</td>\n",
       "    </tr>\n",
       "    <tr>\n",
       "      <th>8966</th>\n",
       "      <td>Plot  Area</td>\n",
       "      <td>Ready To Move</td>\n",
       "      <td>vishveshwarya layout</td>\n",
       "      <td>6 Bedroom</td>\n",
       "      <td>NaN</td>\n",
       "      <td>1400.0</td>\n",
       "      <td>6.0</td>\n",
       "      <td>3.0</td>\n",
       "      <td>160.0</td>\n",
       "      <td>6.0</td>\n",
       "      <td>11428.571429</td>\n",
       "    </tr>\n",
       "    <tr>\n",
       "      <th>7495</th>\n",
       "      <td>Plot  Area</td>\n",
       "      <td>Ready To Move</td>\n",
       "      <td>subramanyapura</td>\n",
       "      <td>3 Bedroom</td>\n",
       "      <td>NaN</td>\n",
       "      <td>600.0</td>\n",
       "      <td>3.0</td>\n",
       "      <td>1.0</td>\n",
       "      <td>69.0</td>\n",
       "      <td>3.0</td>\n",
       "      <td>11500.000000</td>\n",
       "    </tr>\n",
       "    <tr>\n",
       "      <th>10810</th>\n",
       "      <td>Plot  Area</td>\n",
       "      <td>Ready To Move</td>\n",
       "      <td>4th block hbr layout</td>\n",
       "      <td>5 Bedroom</td>\n",
       "      <td>NaN</td>\n",
       "      <td>1200.0</td>\n",
       "      <td>5.0</td>\n",
       "      <td>2.0</td>\n",
       "      <td>138.0</td>\n",
       "      <td>5.0</td>\n",
       "      <td>11500.000000</td>\n",
       "    </tr>\n",
       "  </tbody>\n",
       "</table>\n",
       "<p>495 rows × 11 columns</p>\n",
       "</div>"
      ],
      "text/plain": [
       "                  area_type   availability              location       size  \\\n",
       "8653             Plot  Area  Ready To Move         doddaballapur  2 Bedroom   \n",
       "11173  Super built-up  Area  Ready To Move            kadabagere      2 BHK   \n",
       "2796         Built-up  Area  Ready To Move       electronic city      3 BHK   \n",
       "7028   Super built-up  Area  Ready To Move            kadabagere      2 BHK   \n",
       "4786   Super built-up  Area  Ready To Move       electronic city      2 BHK   \n",
       "...                     ...            ...                   ...        ...   \n",
       "3342             Plot  Area  Ready To Move   bhuvaneshwari nagar  3 Bedroom   \n",
       "8146             Plot  Area  Ready To Move        sarjapur  road  5 Bedroom   \n",
       "8966             Plot  Area  Ready To Move  vishveshwarya layout  6 Bedroom   \n",
       "7495             Plot  Area  Ready To Move        subramanyapura  3 Bedroom   \n",
       "10810            Plot  Area  Ready To Move  4th block hbr layout  5 Bedroom   \n",
       "\n",
       "       society  total_sqft  bath  balcony  price  BHK  price_per_sqft  \n",
       "8653       NaN       640.0   1.0      0.0   10.5  2.0     1640.625000  \n",
       "11173  Jahipa        675.0   2.0      2.0   13.5  2.0     2000.000000  \n",
       "2796   Itelaa        880.0   2.0      1.0   18.0  3.0     2045.454545  \n",
       "7028   Jahipa        675.0   1.0      1.0   15.0  2.0     2222.222222  \n",
       "4786   Itelaa        660.0   1.0      1.0   15.0  2.0     2272.727273  \n",
       "...        ...         ...   ...      ...    ...  ...             ...  \n",
       "3342       NaN       440.0   3.0      0.0   50.0  3.0    11363.636364  \n",
       "8146   Owlotou      1480.0   4.0      1.0  169.0  5.0    11418.918919  \n",
       "8966       NaN      1400.0   6.0      3.0  160.0  6.0    11428.571429  \n",
       "7495       NaN       600.0   3.0      1.0   69.0  3.0    11500.000000  \n",
       "10810      NaN      1200.0   5.0      2.0  138.0  5.0    11500.000000  \n",
       "\n",
       "[495 rows x 11 columns]"
      ]
     },
     "execution_count": 33,
     "metadata": {},
     "output_type": "execute_result"
    }
   ],
   "source": [
    "data1[(data1['total_sqft']/data1['BHK'])<350]"
   ]
  },
  {
   "cell_type": "code",
   "execution_count": 34,
   "id": "3fffa4a6-ceb3-4d99-a6a1-d7a5c6bcf08e",
   "metadata": {},
   "outputs": [],
   "source": [
    "data1=data1[(data1['total_sqft']/data1['BHK'])>=350]"
   ]
  },
  {
   "cell_type": "markdown",
   "id": "7903f7ce-68b5-4b5b-99c6-b1501917c682",
   "metadata": {},
   "source": [
    "<h2>Handling the outliers in the column BHK</h2>"
   ]
  },
  {
   "cell_type": "code",
   "execution_count": 35,
   "id": "eb97b4d4-4211-4769-9553-aa5ae69d37fd",
   "metadata": {},
   "outputs": [],
   "source": [
    "def Scatter_BHK(df,location):\n",
    "    df_bhk2=df[(df.location==location)&(df.BHK==2)]\n",
    "    df_bhk3=df[(df.location==location)&(df.BHK==3)]\n",
    "    fig=plt.figure(figsize=(8,3))\n",
    "    plt.scatter(df_bhk2.total_sqft,df_bhk2.price,color='y',s=50,label='2 BHK')\n",
    "    plt.scatter(df_bhk3.total_sqft,df_bhk3.price,marker='X',color='g',s=50,label='3 BHK')\n",
    "    plt.xlabel('Total square foot ')\n",
    "    plt.ylabel('Price(in lakhs(ind rupees))')\n",
    "    plt.title(location)\n",
    "    plt.legend()\n",
    "    plt.show()\n",
    "    "
   ]
  },
  {
   "cell_type": "code",
   "execution_count": 36,
   "id": "c7c12a96-878e-4644-8257-2597b7f8a47e",
   "metadata": {},
   "outputs": [
    {
     "data": {
      "image/png": "[encoded data removed]",
      "text/plain": [
       "<Figure size 800x300 with 1 Axes>"
      ]
     },
     "metadata": {},
     "output_type": "display_data"
    }
   ],
   "source": [
    "Scatter_BHK(data1,'hebbal')"
   ]
  },
  {
   "cell_type": "code",
   "execution_count": 37,
   "id": "9e9d40b3-358b-47d5-9c9d-528e0540fa2e",
   "metadata": {},
   "outputs": [
    {
     "data": {
      "image/png": "[encoded data removed]",
      "text/plain": [
       "<Figure size 800x300 with 1 Axes>"
      ]
     },
     "metadata": {},
     "output_type": "display_data"
    }
   ],
   "source": [
    "Scatter_BHK(data1,'electronic city phase ii')"
   ]
  },
  {
   "cell_type": "code",
   "execution_count": 38,
   "id": "fc4350a2-fc3b-4544-93a8-fd25da5b91ba",
   "metadata": {},
   "outputs": [
    {
     "data": {
      "image/png": "[encoded data removed]",
      "text/plain": [
       "<Figure size 800x300 with 1 Axes>"
      ]
     },
     "metadata": {},
     "output_type": "display_data"
    }
   ],
   "source": [
    "Scatter_BHK(data1,'rajaji nagar')"
   ]
  },
  {
   "cell_type": "code",
   "execution_count": 39,
   "id": "1c361871-3420-443d-8456-6eb59fc66246",
   "metadata": {},
   "outputs": [],
   "source": [
    "def remove_bhk_outliers(df):\n",
    "    exclude_indices = np.array([])\n",
    "    for location, location_df in df.groupby('location'):\n",
    "        bhk_stats = {}\n",
    "        for bhk, bhk_df in location_df.groupby('BHK'):\n",
    "            bhk_stats[bhk] = {\n",
    "                'mean': np.mean(bhk_df.price_per_sqft),\n",
    "                'std': np.std(bhk_df.price_per_sqft),\n",
    "                'count': bhk_df.shape[0]\n",
    "            }\n",
    "        for bhk, bhk_df in location_df.groupby('BHK'):\n",
    "            stats = bhk_stats.get(bhk-1)\n",
    "            if stats and stats['count']>5:\n",
    "                exclude_indices = np.append(exclude_indices, bhk_df[bhk_df.price_per_sqft<(stats['mean'])].index.values)\n",
    "    return df.drop(exclude_indices,axis='index')"
   ]
  },
  {
   "cell_type": "code",
   "execution_count": 40,
   "id": "87537c68-36ca-404b-9fc3-cfa86670f3d3",
   "metadata": {},
   "outputs": [
    {
     "name": "stdout",
     "output_type": "stream",
     "text": [
      "before: 11024\n",
      "after: 8935\n"
     ]
    }
   ],
   "source": [
    "data2=remove_bhk_outliers(data1)\n",
    "print('before:',data1.shape[0])\n",
    "print('after:',data2.shape[0])"
   ]
  },
  {
   "cell_type": "code",
   "execution_count": 41,
   "id": "bdbe6ccc-d6c9-41e4-a586-e414de85dc80",
   "metadata": {},
   "outputs": [
    {
     "data": {
      "image/png": "[encoded data removed]",
      "text/plain": [
       "<Figure size 800x300 with 1 Axes>"
      ]
     },
     "metadata": {},
     "output_type": "display_data"
    }
   ],
   "source": [
    "Scatter_BHK(data2,'hebbal')"
   ]
  },
  {
   "cell_type": "code",
   "execution_count": 42,
   "id": "e1d61e2f-8a88-4a56-9ddd-4866f3edcb2f",
   "metadata": {},
   "outputs": [
    {
     "data": {
      "image/png": "[encoded data removed]",
      "text/plain": [
       "<Figure size 800x300 with 1 Axes>"
      ]
     },
     "metadata": {},
     "output_type": "display_data"
    }
   ],
   "source": [
    "Scatter_BHK(data2,'electronic city phase ii')"
   ]
  },
  {
   "cell_type": "code",
   "execution_count": 43,
   "id": "aaa3fe7c-530d-488f-bca8-b18df03fdafc",
   "metadata": {},
   "outputs": [
    {
     "data": {
      "image/png": "[encoded data removed]",
      "text/plain": [
       "<Figure size 800x300 with 1 Axes>"
      ]
     },
     "metadata": {},
     "output_type": "display_data"
    }
   ],
   "source": [
    "Scatter_BHK(data2,'rajaji nagar')"
   ]
  },
  {
   "cell_type": "code",
   "execution_count": 44,
   "id": "b41fe4e5-2cc8-44c4-a025-57a76b7f47e0",
   "metadata": {},
   "outputs": [
    {
     "data": {
      "text/plain": [
       "location\n",
       "whitefield                 258\n",
       "sarjapur  road             228\n",
       "thanisandra                151\n",
       "hebbal                     146\n",
       "electronic city            141\n",
       "                          ... \n",
       "narayanappa garden           1\n",
       "veerannapalya                1\n",
       "p&t colony                   1\n",
       "mvj engineering college      1\n",
       "indira nagar 3rd stage       1\n",
       "Name: count, Length: 1058, dtype: int64"
      ]
     },
     "execution_count": 44,
     "metadata": {},
     "output_type": "execute_result"
    }
   ],
   "source": [
    "data2['location'].value_counts()"
   ]
  },
  {
   "cell_type": "code",
   "execution_count": 45,
   "id": "fde03988-ebad-47da-b273-4bc528dada28",
   "metadata": {},
   "outputs": [],
   "source": [
    "value_loc=data2['location'].value_counts()\n",
    "cities_less_10=value_loc[value_loc<=10]\n",
    "data2['location']=data2['location'].apply(lambda x: 'other' if x in cities_less_10 else x)"
   ]
  },
  {
   "cell_type": "code",
   "execution_count": 46,
   "id": "e5e54179-a859-4875-bc63-c5931fdc6c49",
   "metadata": {},
   "outputs": [
    {
     "data": {
      "text/plain": [
       "location\n",
       "other                  2418\n",
       "whitefield              258\n",
       "sarjapur  road          228\n",
       "thanisandra             151\n",
       "hebbal                  146\n",
       "                       ... \n",
       "jalahalli east           11\n",
       "nri layout               11\n",
       "pattandur agrahara       11\n",
       "mallasandra              11\n",
       "sector 7 hsr layout      11\n",
       "Name: count, Length: 189, dtype: int64"
      ]
     },
     "execution_count": 46,
     "metadata": {},
     "output_type": "execute_result"
    }
   ],
   "source": [
    "data2['location'].value_counts()"
   ]
  },
  {
   "cell_type": "code",
   "execution_count": 47,
   "id": "69b73953-724f-4b04-81d2-2dd13b0bf9e0",
   "metadata": {},
   "outputs": [],
   "source": [
    "data2.drop(columns=['area_type','availability','size','society','price_per_sqft'],axis=1,inplace=True)"
   ]
  },
  {
   "cell_type": "code",
   "execution_count": 48,
   "id": "642987cd-2917-4600-9510-070612ac19ac",
   "metadata": {},
   "outputs": [],
   "source": [
    "X=data2.drop(columns=['price'],axis=1)\n",
    "y=data2['price']"
   ]
  },
  {
   "cell_type": "code",
   "execution_count": 49,
   "id": "e5fc6938-897a-4107-9e60-75fc9d7b32f5",
   "metadata": {},
   "outputs": [
    {
     "data": {
      "text/html": [
       "<div>\n",
       "<style scoped>\n",
       "    .dataframe tbody tr th:only-of-type {\n",
       "        vertical-align: middle;\n",
       "    }\n",
       "\n",
       "    .dataframe tbody tr th {\n",
       "        vertical-align: top;\n",
       "    }\n",
       "\n",
       "    .dataframe thead th {\n",
       "        text-align: right;\n",
       "    }\n",
       "</style>\n",
       "<table border=\"1\" class=\"dataframe\">\n",
       "  <thead>\n",
       "    <tr style=\"text-align: right;\">\n",
       "      <th></th>\n",
       "      <th>location</th>\n",
       "      <th>total_sqft</th>\n",
       "      <th>bath</th>\n",
       "      <th>balcony</th>\n",
       "      <th>BHK</th>\n",
       "    </tr>\n",
       "  </thead>\n",
       "  <tbody>\n",
       "    <tr>\n",
       "      <th>1086</th>\n",
       "      <td>other</td>\n",
       "      <td>1306800.0</td>\n",
       "      <td>2.0</td>\n",
       "      <td>2.0</td>\n",
       "      <td>2.0</td>\n",
       "    </tr>\n",
       "    <tr>\n",
       "      <th>11615</th>\n",
       "      <td>other</td>\n",
       "      <td>261360.0</td>\n",
       "      <td>2.0</td>\n",
       "      <td>0.0</td>\n",
       "      <td>3.0</td>\n",
       "    </tr>\n",
       "    <tr>\n",
       "      <th>7607</th>\n",
       "      <td>other</td>\n",
       "      <td>653400.0</td>\n",
       "      <td>3.0</td>\n",
       "      <td>1.0</td>\n",
       "      <td>3.0</td>\n",
       "    </tr>\n",
       "  </tbody>\n",
       "</table>\n",
       "</div>"
      ],
      "text/plain": [
       "      location  total_sqft  bath  balcony  BHK\n",
       "1086     other   1306800.0   2.0      2.0  2.0\n",
       "11615    other    261360.0   2.0      0.0  3.0\n",
       "7607     other    653400.0   3.0      1.0  3.0"
      ]
     },
     "execution_count": 49,
     "metadata": {},
     "output_type": "execute_result"
    }
   ],
   "source": [
    "X.head(3)"
   ]
  },
  {
   "cell_type": "code",
   "execution_count": 50,
   "id": "a0c7e7c8-8dfa-4dbe-8d62-ec81d6809226",
   "metadata": {},
   "outputs": [
    {
     "data": {
      "text/plain": [
       "1086      29.5\n",
       "11615     80.0\n",
       "7607     217.0\n",
       "Name: price, dtype: float64"
      ]
     },
     "execution_count": 50,
     "metadata": {},
     "output_type": "execute_result"
    }
   ],
   "source": [
    "y.head(3)"
   ]
  },
  {
   "cell_type": "code",
   "execution_count": 51,
   "id": "6e47427f-a887-4266-805f-b51c5e262f7a",
   "metadata": {},
   "outputs": [],
   "source": [
    "X_train, X_test, y_train, y_test = train_test_split(X,y,test_size=0.30,random_state=42)"
   ]
  },
  {
   "cell_type": "code",
   "execution_count": 52,
   "id": "b02b8c56-db6d-43c5-8c34-844b07d07bbf",
   "metadata": {},
   "outputs": [],
   "source": [
    "train_data = pd.concat([X_train, y_train], axis=1)\n",
    "test_data = pd.concat([X_test, y_test], axis=1)"
   ]
  },
  {
   "cell_type": "code",
   "execution_count": 55,
   "id": "5af85ebb-bf15-4ba9-b6a1-15bcbd7598bd",
   "metadata": {},
   "outputs": [
    {
     "data": {
      "text/plain": [
       "(6254, 6)"
      ]
     },
     "execution_count": 55,
     "metadata": {},
     "output_type": "execute_result"
    }
   ],
   "source": [
    "train_data.shape"
   ]
  },
  {
   "cell_type": "code",
   "execution_count": 57,
   "id": "ca401799-19c8-4d8a-93c3-e3c671bbf517",
   "metadata": {},
   "outputs": [],
   "source": [
    "train_data.to_csv('train_data.csv', index=False)"
   ]
  },
  {
   "cell_type": "code",
   "execution_count": 56,
   "id": "17a83659-700d-456e-b20b-c369574c5305",
   "metadata": {},
   "outputs": [
    {
     "data": {
      "text/plain": [
       "(2681, 6)"
      ]
     },
     "execution_count": 56,
     "metadata": {},
     "output_type": "execute_result"
    }
   ],
   "source": [
    "test_data.shape"
   ]
  },
  {
   "cell_type": "code",
   "execution_count": 58,
   "id": "247fe6f6-58f0-4249-a603-9a36e76ad238",
   "metadata": {},
   "outputs": [],
   "source": [
    "test_data.to_csv('test_data.csv', index=False)"
   ]
  },
  {
   "cell_type": "code",
   "execution_count": null,
   "id": "d39b16ff-e040-4fba-8608-1bb3f99c5ce2",
   "metadata": {},
   "outputs": [],
   "source": []
  }
 ],
 "metadata": {
  "kernelspec": {
   "display_name": "Python 3 (ipykernel)",
   "language": "python",
   "name": "python3"
  },
  "language_info": {
   "codemirror_mode": {
    "name": "ipython",
    "version": 3
   },
   "file_extension": ".py",
   "mimetype": "text/x-python",
   "name": "python",
   "nbconvert_exporter": "python",
   "pygments_lexer": "ipython3",
   "version": "3.12.7"
  }
 },
 "nbformat": 4,
 "nbformat_minor": 5
}
